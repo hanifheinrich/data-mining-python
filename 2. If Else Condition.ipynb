{
 "cells": [
  {
   "cell_type": "code",
   "execution_count": 7,
   "id": "0d768c99",
   "metadata": {
    "scrolled": true
   },
   "outputs": [
    {
     "name": "stdout",
     "output_type": "stream",
     "text": [
      "Masukkan jumlah baju 8\n",
      "STRUK\n",
      "Jumlah baju yang dibeli 8\n",
      "Diskon 43800.0\n",
      "Total belanja Rp 240000\n",
      "Harga yang dibayar Rp 196200.0\n"
     ]
    }
   ],
   "source": [
    "jumlahBaju= int(input(\"Masukkan jumlah baju \"))\n",
    "baju=30000\n",
    "hargaTotal=jumlahBaju * baju\n",
    "if(jumlahBaju <= 3):\n",
    "    print(\"STRUK\")\n",
    "    print(\"Jumlah baju yang dibeli\", jumlahBaju)\n",
    "    print(\"Total belanja Rp\",hargaTotal )\n",
    "    \n",
    "elif(jumlahBaju>3 and jumlahBaju <=6):\n",
    "    print(\"STRUK\")\n",
    "    diskon1= 0.15*3*baju\n",
    "    diskon2= 0.05*(jumlahBaju-3)*baju\n",
    "    totalDiskon=diskon1+diskon2\n",
    "    hargaDiskon=hargaTotal-totalDiskon\n",
    "    print(\"Jumlah baju yang dibeli\", jumlahBaju)\n",
    "    print(\"Diskon\",totalDiskon)\n",
    "    print(\"Total belanja Rp\",hargaTotal)\n",
    "    print(\"Harga yang dibayar Rp\",hargaDiskon)\n",
    "    \n",
    "else:\n",
    "    print(\"STRUK\")\n",
    "    diskon1 = 0.27*3*baju\n",
    "    diskon2 = 0.17*3*baju\n",
    "    diskon3 = 0.07*(jumlahBaju-6)*baju\n",
    "    totalDiskon=diskon1+diskon2+diskon3\n",
    "    hargaDiskon=hargaTotal-totalDiskon\n",
    "    print(\"Jumlah baju yang dibeli\", jumlahBaju)\n",
    "    print(\"Diskon\",totalDiskon)\n",
    "    print(\"Total belanja Rp\",hargaTotal)\n",
    "    print(\"Harga yang dibayar Rp\",hargaDiskon)\n",
    "    "
   ]
  },
  {
   "cell_type": "code",
   "execution_count": null,
   "id": "076f895a",
   "metadata": {},
   "outputs": [],
   "source": []
  }
 ],
 "metadata": {
  "kernelspec": {
   "display_name": "Python 3 (ipykernel)",
   "language": "python",
   "name": "python3"
  },
  "language_info": {
   "codemirror_mode": {
    "name": "ipython",
    "version": 3
   },
   "file_extension": ".py",
   "mimetype": "text/x-python",
   "name": "python",
   "nbconvert_exporter": "python",
   "pygments_lexer": "ipython3",
   "version": "3.9.13"
  }
 },
 "nbformat": 4,
 "nbformat_minor": 5
}
