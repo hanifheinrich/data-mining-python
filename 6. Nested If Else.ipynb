{
 "cells": [
  {
   "cell_type": "code",
   "execution_count": 2,
   "id": "91e33fb7",
   "metadata": {},
   "outputs": [
    {
     "name": "stdout",
     "output_type": "stream",
     "text": [
      "Masukkan Nama :  Hanif\n",
      "Pilih Jenis Pegawai\n",
      "1. PNS \n",
      "2. Swasta\n",
      "Masukkan jenis pegawai :  1\n",
      "Pilih Tamatan\n",
      "1. Tamatan S1\n",
      "2. Tamatan SMA\n",
      "Masukkan tamatan : 1\n",
      "Pilih Jabatan\n",
      "1. Staff\n",
      "2. Kepala Bidang\n",
      "Masukkan jabatan : 1\n",
      "Jumlah Gaji Anda : Rp 4835600.0\n"
     ]
    }
   ],
   "source": [
    "nama = input(\"Masukkan Nama :  \")\n",
    "print (\"Pilih Jenis Pegawai\")\n",
    "print (\"1. PNS \")\n",
    "print (\"2. Swasta\")\n",
    "jenis = input(\"Masukkan jenis pegawai :  \")\n",
    "if(jenis=='1'): \n",
    "    upah = 4400000\n",
    "    tunjangan_keluarga = 3.9/100 * upah\n",
    "    staff = 6/100* upah\n",
    "    kepala_bidang = 12.5/100 *upah\n",
    "    \n",
    "    print (\"Pilih Tamatan\")\n",
    "    print (\"1. Tamatan S1\")\n",
    "    print (\"2. Tamatan SMA\")\n",
    "    tamatan = input(\"Masukkan tamatan : \")\n",
    "    print (\"Pilih Jabatan\")\n",
    "    print (\"1. Staff\")\n",
    "    print (\"2. Kepala Bidang\")\n",
    "    jabatan = input(\"Masukkan jabatan : \")\n",
    "    if(tamatan=='1'):\n",
    "        if(jabatan=='1'):\n",
    "            print (\"Jumlah Gaji Anda : Rp\", (upah+tunjangan_keluarga+staff))\n",
    "        elif(jabatan=='2'):\n",
    "            print (\"Jumlah Gaji Anda : Rp\", (upah+tunjangan_keluarga+kepala_bidang))\n",
    "    elif(tamatan=='2'):\n",
    "        if(jabatan=='1'):\n",
    "            print(\"Jumlah Gaji Anda : Rp\",  5/7*(upah+tunjangan_keluarga+staff))\n",
    "        elif(jabatan=='2'):\n",
    "            print(\"Jumlah Gaji Anda : Rp\",  5/7*(upah+tunjangan_keluarga+kepala_bidang))        \n",
    "elif(jenis=='2') : \n",
    "    upah_dasar = 2800000\n",
    "    uanglembur = upah_dasar*(12/100);\n",
    "    print (\"Pilih Tamatan\")\n",
    "    print (\"1. Tamatan S1\")\n",
    "    print (\"2. Tamatan SMA\")\n",
    "    tamatan = input(\"Masukkan tamatan : \")\n",
    "    if(tamatan=='1'):\n",
    "        input_jumlah_jam_lembur = input(\"Masukkan jam lebur : \")\n",
    "        jumlah_jam_lembur= int(input_jumlah_jam_lembur)\n",
    "        totaluanglembur = uanglembur * jumlah_jam_lembur\n",
    "        print(\"Jumlah Gaji Anda : Rp\", (upah_dasar+totaluanglembur))\n",
    "    elif(tamatan=='2') :\n",
    "        input_jumlah_jam_lembur = input(\"Masukkan jam lebur : \")\n",
    "        jumlah_jam_lembur= int(input_jumlah_jam_lembur)\n",
    "        totaluanglembur = uanglembur * jumlah_jam_lembur\n",
    "        print(\"Jumlah Gaji Anda : Rp\", (upah_dasar+totaluanglembur)*3/5)\n",
    "else :\n",
    "    print(\"Masukkan Inputan dengan Benar!\")"
   ]
  },
  {
   "cell_type": "code",
   "execution_count": null,
   "id": "2b4921e8",
   "metadata": {},
   "outputs": [],
   "source": []
  }
 ],
 "metadata": {
  "kernelspec": {
   "display_name": "Python 3 (ipykernel)",
   "language": "python",
   "name": "python3"
  },
  "language_info": {
   "codemirror_mode": {
    "name": "ipython",
    "version": 3
   },
   "file_extension": ".py",
   "mimetype": "text/x-python",
   "name": "python",
   "nbconvert_exporter": "python",
   "pygments_lexer": "ipython3",
   "version": "3.9.13"
  }
 },
 "nbformat": 4,
 "nbformat_minor": 5
}
